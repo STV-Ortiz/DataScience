{
 "cells": [
  {
   "cell_type": "markdown",
   "id": "054f1cbb-6e3f-42c5-9ec7-e13a19119d38",
   "metadata": {},
   "source": [
    "# Data Science Tools and Ecosystem"
   ]
  },
  {
   "cell_type": "markdown",
   "id": "e396023b-717a-4824-95d7-afe28833e2e2",
   "metadata": {},
   "source": [
    "# Data Science Tools and Ecosystem"
   ]
  },
  {
   "cell_type": "markdown",
   "id": "3d8dc5ec-7d8b-4dc0-9a45-d24ecb34377d",
   "metadata": {},
   "source": [
    "## En este cuaderno, se resumen las herramientas y ecosistemas de ciencia de datos."
   ]
  },
  {
   "cell_type": "markdown",
   "id": "01a3154b-5609-485c-aa02-02c91707835d",
   "metadata": {},
   "source": [
    "## En este cuaderno, se resumen las herramientas y ecosistemas de ciencia de datos."
   ]
  },
  {
   "cell_type": "markdown",
   "id": "b6af300a-6172-4e82-94fd-649c7732510b",
   "metadata": {},
   "source": [
    "**Objetivos:**\n",
    "+ Python\n",
    "+ R\n",
    "+ SQl\n",
    "+ Julia\n",
    "+ Scala\n",
    "+ C/C++\n",
    "+ JavaScript"
   ]
  },
  {
   "cell_type": "markdown",
   "id": "9988b7f5-e184-4446-a228-c867503d198a",
   "metadata": {},
   "source": [
    "**Objetivos:**\n",
    "+ Python\n",
    "+ R\n",
    "+ SQl\n",
    "+ Julia\n",
    "+ Scala\n",
    "+ C/C++\n",
    "+ JavaScript"
   ]
  },
  {
   "cell_type": "markdown",
   "id": "5dd63321-eee1-4a4e-bb54-580fa5607255",
   "metadata": {},
   "source": [
    "### Algunos de los lenguajes populares que utilizan los científicos de datos son:"
   ]
  },
  {
   "cell_type": "markdown",
   "id": "7d5e7424-5395-4c2e-b13f-dcbfab2322d8",
   "metadata": {},
   "source": [
    "### Algunos de los lenguajes populares que utilizan los científicos de datos son:"
   ]
  },
  {
   "cell_type": "markdown",
   "id": "8873e747-7b2e-4858-ac48-841e83bf517b",
   "metadata": {},
   "source": [
    "1. Python\n",
    "2. R\n",
    "3. SQL"
   ]
  },
  {
   "cell_type": "markdown",
   "id": "54e0e7ca-9c61-43ac-9dbe-3566eefccb35",
   "metadata": {},
   "source": [
    "1. Python\n",
    "2. R\n",
    "3. SQL"
   ]
  },
  {
   "cell_type": "markdown",
   "id": "f82f9f85-3c5a-4795-b980-9fb34ff0adbb",
   "metadata": {},
   "source": [
    "### Algunas de las bibliotecas comúnmente utilizadas por los científicos de datos incluyen:"
   ]
  },
  {
   "cell_type": "markdown",
   "id": "4c6b64d5-e16f-4cd5-9034-1c2af8bb1de4",
   "metadata": {},
   "source": [
    "### Algunas de las bibliotecas comúnmente utilizadas por los científicos de datos incluyen:"
   ]
  },
  {
   "cell_type": "markdown",
   "id": "833415ea-a18b-4864-84d3-53da21aef9d9",
   "metadata": {},
   "source": [
    "1. NumPy (Python)\n",
    "2. Caret (R)\n",
    "3. JuliaDB (Julia)"
   ]
  },
  {
   "cell_type": "markdown",
   "id": "54815b4b-3182-4295-82eb-5247f137cd6b",
   "metadata": {},
   "source": [
    "1. NumPy (Python)\n",
    "2. Caret (R)\n",
    "3. JuliaDB (Julia)"
   ]
  },
  {
   "cell_type": "markdown",
   "id": "f77ef459-d83e-493e-9c88-3c821e10b037",
   "metadata": {},
   "source": [
    "| Herramientas de Ciencia de Datos |\n",
    "| -------------------------------- |\n",
    "| Scikit-learn |\n",
    "| Jypyter notebook |\n",
    "| Pytorch |"
   ]
  },
  {
   "cell_type": "markdown",
   "id": "007866fd-827b-4ffd-945b-39017be4787a",
   "metadata": {},
   "source": [
    "| Herramientas de Ciencia de Datos |\n",
    "| -------------------------------- |\n",
    "| Scikit-learn |\n",
    "| Jypyter notebook |\n",
    "| Pytorch |"
   ]
  },
  {
   "cell_type": "markdown",
   "id": "d79e0a14-44ee-4117-928b-a1f5c600de80",
   "metadata": {},
   "source": [
    "### A continuación, se presentan algunos ejemplos de evaluación de expresiones aritméticas en Python"
   ]
  },
  {
   "cell_type": "markdown",
   "id": "d2716fb6-6a09-4543-b0c0-3e02070702c7",
   "metadata": {},
   "source": [
    "### A continuación, se presentan algunos ejemplos de evaluación de expresiones aritméticas en Python"
   ]
  },
  {
   "cell_type": "markdown",
   "id": "f7d302e5-c5c0-4822-9833-7a4eb1b23fc1",
   "metadata": {},
   "source": [
    "#### Esta es una expresión aritmética simple para multiplicar y luego sumar enteros"
   ]
  },
  {
   "cell_type": "markdown",
   "id": "05487613-5f19-421d-9853-d894d9861934",
   "metadata": {},
   "source": [
    "#### Esta es una expresión aritmética simple para multiplicar y luego sumar enteros"
   ]
  },
  {
   "cell_type": "code",
   "execution_count": 8,
   "id": "b824ef77-b6e9-4861-8949-2008bd746bfa",
   "metadata": {},
   "outputs": [
    {
     "data": {
      "text/plain": [
       "17"
      ]
     },
     "execution_count": 8,
     "metadata": {},
     "output_type": "execute_result"
    }
   ],
   "source": [
    "(3*4)+5"
   ]
  },
  {
   "cell_type": "markdown",
   "id": "2adf23a5-9d52-473e-b2c3-a0b94306d4aa",
   "metadata": {},
   "source": [
    "#### Esto convertirá 200 minutos a horas dividiendo por 60"
   ]
  },
  {
   "cell_type": "markdown",
   "id": "9cf56696-6fd3-4a3a-b397-b01b1a97ab75",
   "metadata": {},
   "source": [
    "#### Esto convertirá 200 minutos a horas dividiendo por 60"
   ]
  },
  {
   "cell_type": "code",
   "execution_count": 10,
   "id": "562b214c-d21f-4ba9-99c8-f69cde2535fa",
   "metadata": {},
   "outputs": [
    {
     "data": {
      "text/plain": [
       "3.3333333333333335"
      ]
     },
     "execution_count": 10,
     "metadata": {},
     "output_type": "execute_result"
    }
   ],
   "source": [
    "200*(1/60)"
   ]
  },
  {
   "cell_type": "markdown",
   "id": "58c0d70f-70ee-4c19-89e3-e3ceab2c6fd5",
   "metadata": {},
   "source": [
    "## Autor\n",
    "William Ortiz"
   ]
  },
  {
   "cell_type": "markdown",
   "id": "66bffd7a-5bad-454a-b917-8759e2f0aade",
   "metadata": {},
   "source": [
    "## Autor\n",
    "William Ortiz"
   ]
  }
 ],
 "metadata": {
  "kernelspec": {
   "display_name": "anaconda-2024.02-py310",
   "language": "python",
   "name": "conda-env-anaconda-2024.02-py310-py"
  },
  "language_info": {
   "codemirror_mode": {
    "name": "ipython",
    "version": 3
   },
   "file_extension": ".py",
   "mimetype": "text/x-python",
   "name": "python",
   "nbconvert_exporter": "python",
   "pygments_lexer": "ipython3",
   "version": "3.10.14"
  }
 },
 "nbformat": 4,
 "nbformat_minor": 5
}
